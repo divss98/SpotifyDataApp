{
 "cells": [
  {
   "cell_type": "code",
   "execution_count": 1,
   "metadata": {},
   "outputs": [],
   "source": [
    "#IMPORTANT:\n",
    "#The following guide was used to install Spark (PySpark) on Windows:\n",
    "#https://medium.com/@GalarnykMichael/install-spark-on-windows-pyspark-4498a5d8d66c\n",
    "#Then download the mysql-connector-java jar file separately\n",
    "\n",
    "#In order to get this IPYNB script to work, we have to initiate Jupyter Notebook by running the following in the command line:\n",
    "# pyspark --driver-class-path mysql-connector-java-8.0.23.jar --jars mysql-connector-java-8.0.23.jar \n",
    "#However, first change the directory to where the mysql-connector-java jar file is located (i.e. C:\\opt\\spark)"
   ]
  },
  {
   "cell_type": "code",
   "execution_count": 2,
   "metadata": {},
   "outputs": [],
   "source": [
    "#import packages\n",
    "from pyspark.sql import SparkSession #don't actually need to include this when command above is used\n",
    "import pyspark.sql.functions as fc"
   ]
  },
  {
   "cell_type": "code",
   "execution_count": 3,
   "metadata": {},
   "outputs": [
    {
     "data": {
      "text/html": [
       "\n",
       "            <div>\n",
       "                <p><b>SparkSession - hive</b></p>\n",
       "                \n",
       "        <div>\n",
       "            <p><b>SparkContext</b></p>\n",
       "\n",
       "            <p><a href=\"http://192.168.1.123:4040\">Spark UI</a></p>\n",
       "\n",
       "            <dl>\n",
       "              <dt>Version</dt>\n",
       "                <dd><code>v3.0.2</code></dd>\n",
       "              <dt>Master</dt>\n",
       "                <dd><code>local[*]</code></dd>\n",
       "              <dt>AppName</dt>\n",
       "                <dd><code>PySparkShell</code></dd>\n",
       "            </dl>\n",
       "        </div>\n",
       "        \n",
       "            </div>\n",
       "        "
      ],
      "text/plain": [
       "<pyspark.sql.session.SparkSession at 0x271b240afd0>"
      ]
     },
     "execution_count": 3,
     "metadata": {},
     "output_type": "execute_result"
    }
   ],
   "source": [
    "spark"
   ]
  },
  {
   "cell_type": "code",
   "execution_count": 4,
   "metadata": {},
   "outputs": [],
   "source": [
    "#load in the 4 tables\n",
    "album = spark.read.format(\"jdbc\").option(\"url\",\"jdbc:mysql://localhost/mydatabase\").option(\"driver\",\"com.mysql.cj.jdbc.Driver\").option(\"dbtable\",\"album\").option(\"user\",\"root\").option(\"password\",\"dsci551\").load()\n",
    "artist = spark.read.format(\"jdbc\").option(\"url\",\"jdbc:mysql://localhost/mydatabase\").option(\"driver\",\"com.mysql.cj.jdbc.Driver\").option(\"dbtable\",\"artist\").option(\"user\",\"root\").option(\"password\",\"dsci551\").load()\n",
    "track = spark.read.format(\"jdbc\").option(\"url\",\"jdbc:mysql://localhost/mydatabase\").option(\"driver\",\"com.mysql.cj.jdbc.Driver\").option(\"dbtable\",\"track\").option(\"user\",\"root\").option(\"password\",\"dsci551\").load()\n",
    "audio = spark.read.format(\"jdbc\").option(\"url\",\"jdbc:mysql://localhost/mydatabase\").option(\"driver\",\"com.mysql.cj.jdbc.Driver\").option(\"dbtable\",\"audio\").option(\"user\",\"root\").option(\"password\",\"dsci551\").load()"
   ]
  },
  {
   "cell_type": "code",
   "execution_count": 5,
   "metadata": {},
   "outputs": [
    {
     "name": "stdout",
     "output_type": "stream",
     "text": [
      "root\n",
      " |-- album_id: string (nullable = true)\n",
      " |-- album_name: string (nullable = true)\n",
      " |-- album_release_date: string (nullable = true)\n",
      " |-- album_total_tracks: long (nullable = true)\n",
      " |-- album_artist_id: string (nullable = true)\n",
      " |-- album_image: string (nullable = true)\n",
      " |-- album_homepage: string (nullable = true)\n",
      "\n",
      "root\n",
      " |-- artist_id: string (nullable = true)\n",
      " |-- artist_name: string (nullable = true)\n",
      " |-- artist_genre: string (nullable = true)\n",
      " |-- artist_popularity: long (nullable = true)\n",
      " |-- artist_followers: long (nullable = true)\n",
      " |-- artist_image: string (nullable = true)\n",
      " |-- artist_homepage: string (nullable = true)\n",
      "\n",
      "root\n",
      " |-- track_id: string (nullable = true)\n",
      " |-- track_name: string (nullable = true)\n",
      " |-- track_artist_id: string (nullable = true)\n",
      " |-- track_album_id: string (nullable = true)\n",
      " |-- track_number: long (nullable = true)\n",
      " |-- track_popularity: long (nullable = true)\n",
      " |-- track_explicit: boolean (nullable = true)\n",
      " |-- track_homepage: string (nullable = true)\n",
      "\n",
      "root\n",
      " |-- track_id: string (nullable = true)\n",
      " |-- track_duration: long (nullable = true)\n",
      " |-- danceability: double (nullable = true)\n",
      " |-- energy: double (nullable = true)\n",
      " |-- loudness: double (nullable = true)\n",
      " |-- speechiness: double (nullable = true)\n",
      " |-- acousticness: double (nullable = true)\n",
      " |-- instrumentalness: double (nullable = true)\n",
      " |-- liveness: double (nullable = true)\n",
      " |-- valence: double (nullable = true)\n",
      " |-- tempo: double (nullable = true)\n",
      " |-- key: long (nullable = true)\n",
      " |-- mode: long (nullable = true)\n",
      " |-- time_signature: long (nullable = true)\n",
      "\n"
     ]
    }
   ],
   "source": [
    "#view column types\n",
    "album.printSchema()\n",
    "artist.printSchema()\n",
    "track.printSchema()\n",
    "audio.printSchema()"
   ]
  },
  {
   "cell_type": "code",
   "execution_count": 6,
   "metadata": {
    "scrolled": false
   },
   "outputs": [
    {
     "name": "stdout",
     "output_type": "stream",
     "text": [
      "+---------------+---------------+\n",
      "|    artist_name|count(track_id)|\n",
      "+---------------+---------------+\n",
      "|Steven Universe|            300|\n",
      "|    The Beatles|            275|\n",
      "|  Harris Heller|            243|\n",
      "|  Frank Sinatra|            232|\n",
      "|     Elton John|            207|\n",
      "|  Fleetwood Mac|            205|\n",
      "|     Billy Joel|            161|\n",
      "|  George Strait|            154|\n",
      "|   Led Zeppelin|            153|\n",
      "|    Linkin Park|            153|\n",
      "+---------------+---------------+\n",
      "\n"
     ]
    }
   ],
   "source": [
    "#if we want to use spark.sql...\n",
    "#create temp tables to query them\n",
    "album.registerTempTable(\"temp_album\")\n",
    "artist.registerTempTable(\"temp_artist\")\n",
    "track.registerTempTable(\"temp_track\")\n",
    "audio.registerTempTable(\"temp_audio\")\n",
    "\n",
    "#we can then query like this\n",
    "spark.sql(\"\"\"select art.artist_name, count(t.track_id)\n",
    "    from temp_track t\n",
    "    left join temp_artist art on art.artist_id = t.track_artist_id\n",
    "    where art.artist_name is not null\n",
    "    group by art.artist_name\n",
    "    order by count(t.track_id) desc\n",
    "    limit 10;\"\"\").show()"
   ]
  },
  {
   "cell_type": "code",
   "execution_count": 7,
   "metadata": {},
   "outputs": [
    {
     "data": {
      "text/plain": [
       "pyspark.sql.dataframe.DataFrame"
      ]
     },
     "execution_count": 7,
     "metadata": {},
     "output_type": "execute_result"
    }
   ],
   "source": [
    "type(album)"
   ]
  },
  {
   "cell_type": "code",
   "execution_count": 8,
   "metadata": {},
   "outputs": [],
   "source": [
    "###summary statistics we want to show\n",
    "# top 10 artists by number of tracks:\n",
    "# select art.artist_name, count(t.track_id)\n",
    "# from track t\n",
    "# left join artist art on art.artist_id = t.track_artist_id\n",
    "# where art.artist_name is not null\n",
    "# group by art.artist_name\n",
    "# order by count(t.track_id) desc\n",
    "# limit 10\n",
    "most_tracks = track.join(artist, artist.artist_id == track.track_artist_id, how='left').filter(\"artist_name is not null\") \\\n",
    "    .groupBy('artist_name').agg(fc.count(\"*\").alias(\"cnt\")).orderBy(fc.desc('cnt'))#.limit(10)\n",
    "most_tracks_by_artist = most_tracks #.toPandas()\n",
    "most_tracks_by_artist.coalesce(1).write.mode('overwrite').options(header='True', delimiter=',').csv(\"spark_df/most_tracks_by_artist\")"
   ]
  },
  {
   "cell_type": "code",
   "execution_count": 9,
   "metadata": {},
   "outputs": [],
   "source": [
    "# top 10 artists by popularity / followers... popularity based on music being streamed -- make scatterplot?\n",
    "# ^^make scatterplot of popularity and followers?\n",
    "# #select artist_name, artist_popularity, artist_followers\n",
    "# from artist\n",
    "# order by artist_popularity desc\n",
    "# limit 10\n",
    "# select artist_name, artist_popularity, artist_followers\n",
    "# from artist\n",
    "# order by artist_followers desc\n",
    "# limit 10\n",
    "most_artists_fol = artist.select('artist_name','artist_popularity','artist_followers').orderBy(fc.desc('artist_followers'))#.limit(10)\n",
    "top_followers_by_artist = most_artists_fol #.toPandas()\n",
    "top_followers_by_artist.coalesce(1).write.mode('overwrite').options(header='True', delimiter=',').csv(\"spark_df/top_followers_by_artist\")\n",
    "\n",
    "most_artists_pop = artist.select('artist_name','artist_popularity','artist_followers').orderBy(fc.desc('artist_popularity'))#.limit(10)\n",
    "top_popularity_by_artist = most_artists_pop #.toPandas()\n",
    "top_popularity_by_artist.coalesce(1).write.mode('overwrite').options(header='True', delimiter=',').csv(\"spark_df/top_popularity_by_artist\")"
   ]
  },
  {
   "cell_type": "code",
   "execution_count": 10,
   "metadata": {},
   "outputs": [],
   "source": [
    "# top 10 oldest and newest albums... can create bar chart of release decade?\n",
    "# (select alb.album_name, art.artist_name, alb.album_release_date, art.artist_genre, alb.album_image, alb.album_homepage\n",
    "# from album alb\n",
    "# left join artist art on art.artist_id = alb.album_artist_id\n",
    "# order by alb.album_release_date asc\n",
    "# limit 10)\n",
    "# union all\n",
    "# (select alb.album_name, art.artist_name, alb.album_release_date, art.artist_genre, alb.album_image, alb.album_homepage\n",
    "# from album alb\n",
    "# left join artist art on art.artist_id = alb.album_artist_id\n",
    "# where art.artist_name is not null\n",
    "# order by alb.album_release_date desc\n",
    "# limit 10)\n",
    "oldest_album_date = album.join(artist, artist.artist_id == album.album_artist_id, how='left').filter('artist_name is not null')\n",
    "oldest_album_date2 = oldest_album_date.select('album_name', 'artist_name', 'album_release_date').orderBy(fc.asc('album_release_date')).limit(10)\n",
    "#oldest_album_date = album_release2.toPandas()\n",
    "\n",
    "newest_album_date = album.join(artist, artist.artist_id == album.album_artist_id, how='left').filter('artist_name is not null')\n",
    "newest_album_date2 = newest_album_date.select('album_name', 'artist_name', 'album_release_date').orderBy(fc.desc('album_release_date')).limit(10)\n",
    "#newest_album_date = album_release4.toPandas()\n",
    "\n",
    "oldest_newest_union = oldest_album_date2.union(newest_album_date2)\n",
    "oldest_newest_albums = oldest_newest_union #.toPandas()\n",
    "oldest_newest_albums.coalesce(1).write.mode('overwrite').options(header='True', delimiter=',').csv(\"spark_df/oldest_newest_albums\")"
   ]
  },
  {
   "cell_type": "code",
   "execution_count": 11,
   "metadata": {},
   "outputs": [],
   "source": [
    "#top 10 artists by average popularity and their average audio feature scores\n",
    "# select art.artist_name, avg(t.track_popularity), avg(t.track_explicit), avg(aud.track_duration)/1000 as 'track_duration_sec', \n",
    "# \tavg(aud.danceability) as 'danceability', avg(aud.energy) as 'energy', avg(aud.loudness) as 'loudness', \n",
    "#     avg(aud.speechiness) as 'speechiness', avg(aud.acousticness) as 'acousticness', avg(aud.instrumentalness) as 'instrumentalness', \n",
    "#     avg(aud.liveness) as 'liveness', avg(aud.valence) as 'valence', avg(aud.tempo) as 'tempo', art.artist_homepage\n",
    "# from track t\n",
    "# left join audio aud on aud.track_id = t.track_id\n",
    "# left join album alb on alb.album_id = t.track_album_id\n",
    "# left join artist art on art.artist_id = t.track_artist_id\n",
    "# group by art.artist_name\n",
    "# order by avg(t.track_popularity) desc\n",
    "# limit 10\n",
    "audio_stats = track.join(audio, audio.track_id == track.track_id, how='left') \\\n",
    "    .join(album, album.album_id == track.track_album_id, how='left') \\\n",
    "    .join(artist, artist.artist_id == track.track_artist_id, how='left') \\\n",
    "    .groupBy('artist_name').agg(fc.mean('track_popularity').alias(\"avg_popularity\"),(fc.mean('track_duration')/100).alias(\"avg_duration_sec\") \\\n",
    "    ,fc.mean('danceability').alias(\"avg_danceability\") \\\n",
    "    ,fc.mean('energy').alias(\"avg_energy\") \\\n",
    "    ,fc.mean('loudness').alias(\"avg_loudness\") \\\n",
    "    ,fc.mean('speechiness').alias(\"avg_speechiness\") \\\n",
    "    ,fc.mean('acousticness').alias(\"avg_acousticness\") \\\n",
    "    ,fc.mean('liveness').alias(\"avg_liveness\") \\\n",
    "    ,fc.mean('valence').alias(\"avg_valence\") \\\n",
    "    ,fc.mean('tempo').alias(\"avg_tempo\")) \\\n",
    "    .orderBy(fc.desc('avg_popularity'))#.limit(15) #.toPandas()\n",
    "audio_stats.coalesce(1).write.mode('overwrite').options(header='True', delimiter=',').csv(\"spark_df/audio_stats\")"
   ]
  },
  {
   "cell_type": "code",
   "execution_count": null,
   "metadata": {},
   "outputs": [],
   "source": []
  }
 ],
 "metadata": {
  "kernelspec": {
   "display_name": "Python 3",
   "language": "python",
   "name": "python3"
  },
  "language_info": {
   "codemirror_mode": {
    "name": "ipython",
    "version": 3
   },
   "file_extension": ".py",
   "mimetype": "text/x-python",
   "name": "python",
   "nbconvert_exporter": "python",
   "pygments_lexer": "ipython3",
   "version": "3.8.5"
  }
 },
 "nbformat": 4,
 "nbformat_minor": 4
}
